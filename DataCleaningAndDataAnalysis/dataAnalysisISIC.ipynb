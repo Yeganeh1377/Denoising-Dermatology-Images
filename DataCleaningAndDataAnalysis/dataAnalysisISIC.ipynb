{
 "cells": [
  {
   "cell_type": "code",
   "execution_count": 33,
   "id": "useful-surname",
   "metadata": {},
   "outputs": [],
   "source": [
    "import pandas as pd\n",
    "import numpy as np\n",
    "import os \n",
    "import shutil \n",
    "import glob\n"
   ]
  },
  {
   "cell_type": "code",
   "execution_count": 31,
   "id": "crucial-birmingham",
   "metadata": {},
   "outputs": [],
   "source": [
    "train = pd.read_csv(\"labels_train.csv\")\n",
    "test = pd.read_csv(\"labels_test.csv\")\n",
    "train, test"
   ]
  },
  {
   "cell_type": "markdown",
   "id": "streaming-madness",
   "metadata": {},
   "source": [
    "# Distribution of each lesion Type"
   ]
  },
  {
   "cell_type": "code",
   "execution_count": 58,
   "id": "foreign-pencil",
   "metadata": {},
   "outputs": [
    {
     "data": {
      "text/plain": [
       "(pigmented benign keratosis    332\n",
       " melanoma                      312\n",
       " basal cell carcinoma          280\n",
       " nevus                         265\n",
       " Name: label, dtype: int64,\n",
       " pigmented benign keratosis    97\n",
       " melanoma                      91\n",
       " nevus                         79\n",
       " basal cell carcinoma          72\n",
       " Name: label, dtype: int64,\n",
       " melanoma                      51\n",
       " pigmented benign keratosis    49\n",
       " basal cell carcinoma          40\n",
       " nevus                         29\n",
       " Name: label, dtype: int64,\n",
       " pigmented benign keratosis    478\n",
       " melanoma                      454\n",
       " basal cell carcinoma          392\n",
       " nevus                         373\n",
       " Name: label, dtype: int64)"
      ]
     },
     "execution_count": 58,
     "metadata": {},
     "output_type": "execute_result"
    }
   ],
   "source": [
    "train.label.value_counts(), test.label.value_counts(), valid.label.value_counts(), labels.label.value_counts()"
   ]
  },
  {
   "cell_type": "markdown",
   "id": "attended-conflict",
   "metadata": {},
   "source": [
    "# Devide the images into different subdirectories for manual choice of visualising images in report"
   ]
  },
  {
   "cell_type": "code",
   "execution_count": 43,
   "id": "virtual-liverpool",
   "metadata": {
    "scrolled": true
   },
   "outputs": [
    {
     "data": {
      "text/plain": [
       "(               imageId                       label\n",
       " 0     ISIC_0024445.jpg  pigmented benign keratosis\n",
       " 1     ISIC_0009984.jpg                    melanoma\n",
       " 2     ISIC_0000239.jpg                       nevus\n",
       " 3     ISIC_0026291.jpg  pigmented benign keratosis\n",
       " 4     ISIC_0027677.jpg        basal cell carcinoma\n",
       " ...                ...                         ...\n",
       " 1184  ISIC_0024634.jpg        basal cell carcinoma\n",
       " 1185  ISIC_0024748.jpg  pigmented benign keratosis\n",
       " 1186  ISIC_0000305.jpg                    melanoma\n",
       " 1187  ISIC_0026060.jpg  pigmented benign keratosis\n",
       " 1188  ISIC_0010366.jpg                    melanoma\n",
       " \n",
       " [1189 rows x 2 columns],\n",
       "               imageId                       label\n",
       " 0    ISIC_0009955.jpg                    melanoma\n",
       " 1    ISIC_0026496.jpg        basal cell carcinoma\n",
       " 2    ISIC_0010591.jpg                    melanoma\n",
       " 3    ISIC_0025466.jpg  pigmented benign keratosis\n",
       " 4    ISIC_0000363.jpg                       nevus\n",
       " ..                ...                         ...\n",
       " 334  ISIC_0025576.jpg        basal cell carcinoma\n",
       " 335  ISIC_0000518.jpg                    melanoma\n",
       " 336  ISIC_0010299.jpg                    melanoma\n",
       " 337  ISIC_0000059.jpg                       nevus\n",
       " 338  ISIC_0029133.jpg                       nevus\n",
       " \n",
       " [339 rows x 2 columns],\n",
       "               imageId                       label\n",
       " 0    ISIC_0000268.jpg                       nevus\n",
       " 1    ISIC_0024839.jpg  pigmented benign keratosis\n",
       " 2    ISIC_0028479.jpg  pigmented benign keratosis\n",
       " 3    ISIC_0010729.jpg                    melanoma\n",
       " 4    ISIC_0011077.jpg                    melanoma\n",
       " ..                ...                         ...\n",
       " 164  ISIC_0010385.jpg                    melanoma\n",
       " 165  ISIC_0027120.jpg        basal cell carcinoma\n",
       " 166  ISIC_0026842.jpg  pigmented benign keratosis\n",
       " 167  ISIC_0029391.jpg        basal cell carcinoma\n",
       " 168  ISIC_0001154.jpg                    melanoma\n",
       " \n",
       " [169 rows x 2 columns])"
      ]
     },
     "execution_count": 43,
     "metadata": {},
     "output_type": "execute_result"
    }
   ],
   "source": [
    "# load the label files\n",
    "train, test, valid = pd.read_csv(\"/Users/yeganehghamari/Desktop/ISICpreproc/labels_train.csv\"), pd.read_csv(\"/Users/yeganehghamari/Desktop/ISICpreproc/labels_test.csv\"), pd.read_csv(\"/Users/yeganehghamari/Desktop/ISICpreproc/labels_valid.csv\", sep=\",\")\n",
    "train = train.loc[:, ~train.columns.str.contains('Unnamed')]\n",
    "test = test.loc[:, ~test.columns.str.contains('Unnamed')]\n",
    "valid = valid.loc[:, ~valid.columns.str.contains('Unnamed')]\n",
    "train, test, valid\n"
   ]
  },
  {
   "cell_type": "code",
   "execution_count": 31,
   "id": "empirical-dakota",
   "metadata": {},
   "outputs": [],
   "source": [
    "image_type = ['ISICtrain', 'ISICtest', 'ISICvalid']\n",
    "train_list = train.imageId\n",
    "test_list = test.imageId\n",
    "valid_list = valid.imageId\n",
    "\n",
    "# Check if directory exists. If not, create it\n",
    "for folder in image_type:\n",
    "    if os.path.isdir(f\"../{folder}\"):\n",
    "        pass\n",
    "    else:\n",
    "        os.mkdir(f\"../{folder}\")\n",
    "# copy images\n",
    "for fname in test_list:  # traverse the files list\n",
    "    \n",
    "    source = f\"/Users/yeganehghamari/Desktop/ISICpreproc/data/{fname}\"\n",
    "    destination = \"/Users/yeganehghamari/Desktop/ISICpreproc/ISICtest\"\n",
    "    shutil.copy(source, destination) # move it to the respective directory\n",
    " \n",
    "for fname in valid_list:  # traverse the files list\n",
    "    \n",
    "    source = f\"/Users/yeganehghamari/Desktop/ISICpreproc/data/{fname}\"\n",
    "    destination = \"/Users/yeganehghamari/Desktop/ISICpreproc/ISICvalid\"\n",
    "    shutil.copy(source, destination) # move it to the respective directory\n",
    " \n"
   ]
  },
  {
   "cell_type": "code",
   "execution_count": 52,
   "id": "ordinary-arcade",
   "metadata": {},
   "outputs": [],
   "source": [
    "# make training data into different directories depending on the desease\n",
    "image_type = ['melanoma', 'nevus', 'pigmented benign keratosis', 'basal cell carcinoma']\n",
    "train_list = train.imageId\n",
    "\n",
    "# Check if directory exists. If not, create it\n",
    "for folder in image_type:\n",
    "    if os.path.isdir(f\"../ISICtrain/{folder}\"):\n",
    "        pass\n",
    "    else:\n",
    "        os.mkdir(f\"../ISICtrain/{folder}\")\n",
    "\n",
    "# copy images\n",
    "for fname in train_list:  # traverse the files list\n",
    "    \n",
    "    source = f\"/Users/yeganehghamari/Desktop/ISICpreproc/ISICtrain/{fname}\"\n",
    "    label = train.loc[train.imageId == fname].label.item()\n",
    "    destination = f\"/Users/yeganehghamari/Desktop/ISICpreproc/ISICtrain/{label}\"\n",
    "\n",
    "    shutil.move(source, destination) # move it to the respective directory\n",
    "\n",
    "\n",
    "\n"
   ]
  },
  {
   "cell_type": "code",
   "execution_count": 53,
   "id": "linear-documentary",
   "metadata": {},
   "outputs": [],
   "source": [
    "# make training data into different directories depending on the desease\n",
    "image_type = ['melanoma', 'nevus', 'pigmented benign keratosis', 'basal cell carcinoma']\n",
    "test_list = test.imageId\n",
    "\n",
    "# Check if directory exists. If not, create it\n",
    "for folder in image_type:\n",
    "    if os.path.isdir(f\"../ISICtest/{folder}\"):\n",
    "        pass\n",
    "    else:\n",
    "        os.mkdir(f\"../ISICtest/{folder}\")\n",
    "\n",
    "# copy images\n",
    "for fname in test_list:  # traverse the files list\n",
    "    \n",
    "    source = f\"/Users/yeganehghamari/Desktop/ISICpreproc/ISICtest/{fname}\"\n",
    "    label = test.loc[test.imageId == fname].label.item()\n",
    "    destination = f\"/Users/yeganehghamari/Desktop/ISICpreproc/ISICtest/{label}\"\n",
    "\n",
    "    shutil.move(source, destination) # move it to the respective directory\n"
   ]
  },
  {
   "cell_type": "code",
   "execution_count": 54,
   "id": "recreational-beads",
   "metadata": {},
   "outputs": [],
   "source": [
    "# make training data into different directories depending on the desease\n",
    "image_type = ['melanoma', 'nevus', 'pigmented benign keratosis', 'basal cell carcinoma']\n",
    "valid_list = valid.imageId\n",
    "\n",
    "# Check if directory exists. If not, create it\n",
    "for folder in image_type:\n",
    "    if os.path.isdir(f\"../ISICvalid/{folder}\"):\n",
    "        pass\n",
    "    else:\n",
    "        os.mkdir(f\"../ISICvalid/{folder}\")\n",
    "\n",
    "# copy images\n",
    "for fname in valid_list:  # traverse the files list\n",
    "    \n",
    "    source = f\"/Users/yeganehghamari/Desktop/ISICpreproc/ISICvalid/{fname}\"\n",
    "    label = valid.loc[valid.imageId == fname].label.item()\n",
    "    destination = f\"/Users/yeganehghamari/Desktop/ISICpreproc/ISICvalid/{label}\"\n",
    "\n",
    "    shutil.move(source, destination) # move it to the respective directory\n",
    "\n",
    "\n",
    "\n"
   ]
  }
 ],
 "metadata": {
  "kernelspec": {
   "display_name": "Python 3",
   "language": "python",
   "name": "python3"
  },
  "language_info": {
   "codemirror_mode": {
    "name": "ipython",
    "version": 3
   },
   "file_extension": ".py",
   "mimetype": "text/x-python",
   "name": "python",
   "nbconvert_exporter": "python",
   "pygments_lexer": "ipython3",
   "version": "3.8.7"
  }
 },
 "nbformat": 4,
 "nbformat_minor": 5
}
